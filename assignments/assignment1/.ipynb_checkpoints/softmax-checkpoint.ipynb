{
 "cells": [
  {
   "cell_type": "markdown",
   "metadata": {},
   "source": [
    "# Softmax exercise\n",
    "\n",
    "*Complete and hand in this completed worksheet (including its outputs and any supporting code outside of the worksheet) with your assignment submission. For more details see the [assignments page](http://vision.stanford.edu/teaching/cs231n/assignments.html) on the course website.*\n",
    "\n",
    "This exercise is analogous to the SVM exercise. You will:\n",
    "\n",
    "- implement a fully-vectorized **loss function** for the Softmax classifier\n",
    "- implement the fully-vectorized expression for its **analytic gradient**\n",
    "- **check your implementation** with numerical gradient\n",
    "- use a validation set to **tune the learning rate and regularization** strength\n",
    "- **optimize** the loss function with **SGD**\n",
    "- **visualize** the final learned weights\n"
   ]
  },
  {
   "cell_type": "code",
   "execution_count": 1,
   "metadata": {
    "collapsed": true
   },
   "outputs": [],
   "source": [
    "import random\n",
    "import numpy as np\n",
    "from cs231n.data_utils import load_CIFAR10\n",
    "import matplotlib.pyplot as plt\n",
    "\n",
    "from __future__ import print_function\n",
    "\n",
    "%matplotlib inline\n",
    "plt.rcParams['figure.figsize'] = (10.0, 8.0) # set default size of plots\n",
    "plt.rcParams['image.interpolation'] = 'nearest'\n",
    "plt.rcParams['image.cmap'] = 'gray'\n",
    "\n",
    "# for auto-reloading extenrnal modules\n",
    "# see http://stackoverflow.com/questions/1907993/autoreload-of-modules-in-ipython\n",
    "%load_ext autoreload\n",
    "%autoreload 2"
   ]
  },
  {
   "cell_type": "code",
   "execution_count": 2,
   "metadata": {},
   "outputs": [
    {
     "name": "stdout",
     "output_type": "stream",
     "text": [
      "Train data shape:  (49000, 3073)\n",
      "Train labels shape:  (49000,)\n",
      "Validation data shape:  (1000, 3073)\n",
      "Validation labels shape:  (1000,)\n",
      "Test data shape:  (1000, 3073)\n",
      "Test labels shape:  (1000,)\n",
      "dev data shape:  (500, 3073)\n",
      "dev labels shape:  (500,)\n"
     ]
    }
   ],
   "source": [
    "def get_CIFAR10_data(num_training=49000, num_validation=1000, num_test=1000, num_dev=500):\n",
    "    \"\"\"\n",
    "    Load the CIFAR-10 dataset from disk and perform preprocessing to prepare\n",
    "    it for the linear classifier. These are the same steps as we used for the\n",
    "    SVM, but condensed to a single function.  \n",
    "    \"\"\"\n",
    "    # Load the raw CIFAR-10 data\n",
    "    cifar10_dir = 'cs231n/datasets/cifar-10-batches-py'\n",
    "    X_train, y_train, X_test, y_test = load_CIFAR10(cifar10_dir)\n",
    "    \n",
    "    # subsample the data\n",
    "    mask = list(range(num_training, num_training + num_validation))\n",
    "    X_val = X_train[mask]\n",
    "    y_val = y_train[mask]\n",
    "    mask = list(range(num_training))\n",
    "    X_train = X_train[mask]\n",
    "    y_train = y_train[mask]\n",
    "    mask = list(range(num_test))\n",
    "    X_test = X_test[mask]\n",
    "    y_test = y_test[mask]\n",
    "    mask = np.random.choice(num_training, num_dev, replace=False)\n",
    "    X_dev = X_train[mask]\n",
    "    y_dev = y_train[mask]\n",
    "    \n",
    "    # Preprocessing: reshape the image data into rows\n",
    "    X_train = np.reshape(X_train, (X_train.shape[0], -1))\n",
    "    X_val = np.reshape(X_val, (X_val.shape[0], -1))\n",
    "    X_test = np.reshape(X_test, (X_test.shape[0], -1))\n",
    "    X_dev = np.reshape(X_dev, (X_dev.shape[0], -1))\n",
    "    \n",
    "    # Normalize the data: subtract the mean image\n",
    "    mean_image = np.mean(X_train, axis = 0)\n",
    "    X_train -= mean_image\n",
    "    X_val -= mean_image\n",
    "    X_test -= mean_image\n",
    "    X_dev -= mean_image\n",
    "    \n",
    "    # add bias dimension and transform into columns\n",
    "    X_train = np.hstack([X_train, np.ones((X_train.shape[0], 1))])\n",
    "    X_val = np.hstack([X_val, np.ones((X_val.shape[0], 1))])\n",
    "    X_test = np.hstack([X_test, np.ones((X_test.shape[0], 1))])\n",
    "    X_dev = np.hstack([X_dev, np.ones((X_dev.shape[0], 1))])\n",
    "    \n",
    "    return X_train, y_train, X_val, y_val, X_test, y_test, X_dev, y_dev\n",
    "\n",
    "\n",
    "# Invoke the above function to get our data.\n",
    "X_train, y_train, X_val, y_val, X_test, y_test, X_dev, y_dev = get_CIFAR10_data()\n",
    "print('Train data shape: ', X_train.shape)\n",
    "print('Train labels shape: ', y_train.shape)\n",
    "print('Validation data shape: ', X_val.shape)\n",
    "print('Validation labels shape: ', y_val.shape)\n",
    "print('Test data shape: ', X_test.shape)\n",
    "print('Test labels shape: ', y_test.shape)\n",
    "print('dev data shape: ', X_dev.shape)\n",
    "print('dev labels shape: ', y_dev.shape)"
   ]
  },
  {
   "cell_type": "markdown",
   "metadata": {},
   "source": [
    "## Softmax Classifier\n",
    "\n",
    "Your code for this section will all be written inside **cs231n/classifiers/softmax.py**. \n"
   ]
  },
  {
   "cell_type": "code",
   "execution_count": 5,
   "metadata": {},
   "outputs": [
    {
     "name": "stdout",
     "output_type": "stream",
     "text": [
      "loss: 2.326599\n",
      "sanity check: 2.302585\n"
     ]
    }
   ],
   "source": [
    "# First implement the naive softmax loss function with nested loops.\n",
    "# Open the file cs231n/classifiers/softmax.py and implement the\n",
    "# softmax_loss_naive function.\n",
    "\n",
    "from cs231n.classifiers.softmax import softmax_loss_naive\n",
    "import time\n",
    "\n",
    "# Generate a random softmax weight matrix and use it to compute the loss.\n",
    "W = np.random.randn(3073, 10) * 0.0001\n",
    "loss, grad = softmax_loss_naive(W, X_dev, y_dev, 0.0)\n",
    "\n",
    "# As a rough sanity check, our loss should be something close to -log(0.1).\n",
    "print('loss: %f' % loss)\n",
    "print('sanity check: %f' % (-np.log(0.1)))"
   ]
  },
  {
   "cell_type": "markdown",
   "metadata": {},
   "source": [
    "## Inline Question 1:\n",
    "Why do we expect our loss to be close to -log(0.1)? Explain briefly.**\n",
    "\n",
    "**Your answer:** *Fill this in*\n"
   ]
  },
  {
   "cell_type": "code",
   "execution_count": 6,
   "metadata": {},
   "outputs": [
    {
     "name": "stdout",
     "output_type": "stream",
     "text": [
      "numerical: -1.266548 analytic: -1.266548, relative error: 1.269445e-08\n",
      "numerical: 0.236282 analytic: 0.236282, relative error: 3.940319e-08\n",
      "numerical: -2.529070 analytic: -2.529070, relative error: 5.763513e-09\n",
      "numerical: 1.581436 analytic: 1.581436, relative error: 1.867164e-08\n",
      "numerical: -0.573018 analytic: -0.573018, relative error: 9.702742e-08\n",
      "numerical: 0.993761 analytic: 0.993761, relative error: 1.856404e-08\n",
      "numerical: -0.208058 analytic: -0.208058, relative error: 8.581764e-08\n",
      "numerical: -0.255551 analytic: -0.255551, relative error: 7.342546e-08\n",
      "numerical: 2.186168 analytic: 2.186168, relative error: 1.649444e-08\n",
      "numerical: 0.503701 analytic: 0.503701, relative error: 5.037348e-08\n",
      "numerical: -0.487618 analytic: -0.487618, relative error: 8.694365e-08\n",
      "numerical: -0.519367 analytic: -0.519367, relative error: 1.340536e-09\n",
      "numerical: 0.610290 analytic: 0.610290, relative error: 1.254199e-08\n",
      "numerical: -0.565739 analytic: -0.565739, relative error: 6.161206e-08\n",
      "numerical: 1.405647 analytic: 1.405647, relative error: 3.597122e-08\n",
      "numerical: -0.106731 analytic: -0.106731, relative error: 1.595911e-07\n",
      "numerical: -2.138684 analytic: -2.138684, relative error: 3.508863e-08\n",
      "numerical: 0.687279 analytic: 0.687279, relative error: 1.328984e-07\n",
      "numerical: 2.097545 analytic: 2.097545, relative error: 1.089779e-08\n",
      "numerical: -1.049280 analytic: -1.049280, relative error: 5.117232e-08\n"
     ]
    }
   ],
   "source": [
    "# Complete the implementation of softmax_loss_naive and implement a (naive)\n",
    "# version of the gradient that uses nested loops.\n",
    "loss, grad = softmax_loss_naive(W, X_dev, y_dev, 0.0)\n",
    "\n",
    "# As we did for the SVM, use numeric gradient checking as a debugging tool.\n",
    "# The numeric gradient should be close to the analytic gradient.\n",
    "from cs231n.gradient_check import grad_check_sparse\n",
    "f = lambda w: softmax_loss_naive(w, X_dev, y_dev, 0.0)[0]\n",
    "grad_numerical = grad_check_sparse(f, W, grad, 10)\n",
    "\n",
    "# similar to SVM case, do another gradient check with regularization\n",
    "loss, grad = softmax_loss_naive(W, X_dev, y_dev, 5e1)\n",
    "f = lambda w: softmax_loss_naive(w, X_dev, y_dev, 5e1)[0]\n",
    "grad_numerical = grad_check_sparse(f, W, grad, 10)"
   ]
  },
  {
   "cell_type": "code",
   "execution_count": 7,
   "metadata": {},
   "outputs": [
    {
     "name": "stdout",
     "output_type": "stream",
     "text": [
      "naive loss: 2.326599e+00 computed in 0.162009s\n",
      "vectorized loss: 2.326599e+00 computed in 0.044003s\n",
      "Loss difference: 0.000000\n",
      "Gradient difference: 0.000000\n"
     ]
    }
   ],
   "source": [
    "# Now that we have a naive implementation of the softmax loss function and its gradient,\n",
    "# implement a vectorized version in softmax_loss_vectorized.\n",
    "# The two versions should compute the same results, but the vectorized version should be\n",
    "# much faster.\n",
    "tic = time.time()\n",
    "loss_naive, grad_naive = softmax_loss_naive(W, X_dev, y_dev, 0.000005)\n",
    "toc = time.time()\n",
    "print('naive loss: %e computed in %fs' % (loss_naive, toc - tic))\n",
    "\n",
    "from cs231n.classifiers.softmax import softmax_loss_vectorized\n",
    "tic = time.time()\n",
    "loss_vectorized, grad_vectorized = softmax_loss_vectorized(W, X_dev, y_dev, 0.000005)\n",
    "toc = time.time()\n",
    "print('vectorized loss: %e computed in %fs' % (loss_vectorized, toc - tic))\n",
    "\n",
    "# As we did for the SVM, we use the Frobenius norm to compare the two versions\n",
    "# of the gradient.\n",
    "grad_difference = np.linalg.norm(grad_naive - grad_vectorized, ord='fro')\n",
    "print('Loss difference: %f' % np.abs(loss_naive - loss_vectorized))\n",
    "print('Gradient difference: %f' % grad_difference)"
   ]
  },
  {
   "cell_type": "code",
   "execution_count": 11,
   "metadata": {},
   "outputs": [
    {
     "name": "stdout",
     "output_type": "stream",
     "text": [
      "iteration 0 / 1500: loss 393.505051\n",
      "iteration 100 / 1500: loss 238.265492\n",
      "iteration 200 / 1500: loss 144.862863\n",
      "iteration 300 / 1500: loss 88.368429\n",
      "iteration 400 / 1500: loss 54.236736\n",
      "iteration 500 / 1500: loss 33.672874\n",
      "iteration 600 / 1500: loss 21.080086\n",
      "iteration 700 / 1500: loss 13.622483\n",
      "iteration 800 / 1500: loss 8.991166\n",
      "iteration 900 / 1500: loss 6.338539\n",
      "iteration 1000 / 1500: loss 4.535146\n",
      "iteration 1100 / 1500: loss 3.599401\n",
      "iteration 1200 / 1500: loss 2.928316\n",
      "iteration 1300 / 1500: loss 2.549920\n",
      "iteration 1400 / 1500: loss 2.402474\n",
      "learning rate is 0.0000001000 and regularization strength is 25000.0000000000\n",
      "validation accuracy: 0.360000 \n",
      "\n",
      "iteration 0 / 1500: loss 767.168274\n",
      "iteration 100 / 1500: loss 281.849107\n",
      "iteration 200 / 1500: loss 104.363283\n",
      "iteration 300 / 1500: loss 39.564476\n",
      "iteration 400 / 1500: loss 15.758687\n",
      "iteration 500 / 1500: loss 7.109094\n",
      "iteration 600 / 1500: loss 3.926174\n",
      "iteration 700 / 1500: loss 2.745327\n",
      "iteration 800 / 1500: loss 2.335054\n",
      "iteration 900 / 1500: loss 2.175527\n",
      "iteration 1000 / 1500: loss 2.132387\n",
      "iteration 1100 / 1500: loss 2.063779\n",
      "iteration 1200 / 1500: loss 2.097807\n",
      "iteration 1300 / 1500: loss 2.091925\n",
      "iteration 1400 / 1500: loss 2.073254\n",
      "learning rate is 0.0000001000 and regularization strength is 50000.0000000000\n",
      "validation accuracy: 0.343000 \n",
      "\n",
      "iteration 0 / 1500: loss 392.571361\n",
      "iteration 100 / 1500: loss 32.880518\n",
      "iteration 200 / 1500: loss 4.524652\n",
      "iteration 300 / 1500: loss 2.159067\n",
      "iteration 400 / 1500: loss 2.076457\n",
      "iteration 500 / 1500: loss 2.037010\n",
      "iteration 600 / 1500: loss 2.016671\n",
      "iteration 700 / 1500: loss 2.032944\n",
      "iteration 800 / 1500: loss 2.021409\n",
      "iteration 900 / 1500: loss 2.008600\n",
      "iteration 1000 / 1500: loss 2.026747\n",
      "iteration 1100 / 1500: loss 1.992920\n",
      "iteration 1200 / 1500: loss 2.111573\n",
      "iteration 1300 / 1500: loss 1.976612\n",
      "iteration 1400 / 1500: loss 2.039348\n",
      "learning rate is 0.0000005000 and regularization strength is 25000.0000000000\n",
      "validation accuracy: 0.357000 \n",
      "\n",
      "iteration 0 / 1500: loss 772.100746\n",
      "iteration 100 / 1500: loss 6.919550\n",
      "iteration 200 / 1500: loss 2.065160\n",
      "iteration 300 / 1500: loss 2.044472\n",
      "iteration 400 / 1500: loss 2.078808\n",
      "iteration 500 / 1500: loss 2.047554\n",
      "iteration 600 / 1500: loss 2.071037\n",
      "iteration 700 / 1500: loss 2.086843\n",
      "iteration 800 / 1500: loss 2.039147\n",
      "iteration 900 / 1500: loss 2.058333\n",
      "iteration 1000 / 1500: loss 2.082978\n",
      "iteration 1100 / 1500: loss 2.104256\n",
      "iteration 1200 / 1500: loss 2.132648\n",
      "iteration 1300 / 1500: loss 2.101455\n",
      "iteration 1400 / 1500: loss 2.097240\n",
      "learning rate is 0.0000005000 and regularization strength is 50000.0000000000\n",
      "validation accuracy: 0.346000 \n",
      "\n",
      "lr 1.000000e-07 reg 2.500000e+04 train accuracy: 0.350980 val accuracy: 0.360000\n",
      "lr 1.000000e-07 reg 5.000000e+04 train accuracy: 0.329551 val accuracy: 0.343000\n",
      "lr 5.000000e-07 reg 2.500000e+04 train accuracy: 0.344551 val accuracy: 0.357000\n",
      "lr 5.000000e-07 reg 5.000000e+04 train accuracy: 0.323878 val accuracy: 0.346000\n",
      "best validation accuracy achieved during cross-validation: 0.360000\n"
     ]
    }
   ],
   "source": [
    "# Use the validation set to tune hyperparameters (regularization strength and\n",
    "# learning rate). You should experiment with different ranges for the learning\n",
    "# rates and regularization strengths; if you are careful you should be able to\n",
    "# get a classification accuracy of over 0.35 on the validation set.\n",
    "from cs231n.classifiers import Softmax\n",
    "results = {}\n",
    "best_val = -1\n",
    "best_softmax = None\n",
    "learning_rates = [1e-7, 5e-7]\n",
    "regularization_strengths = [2.5e4, 5e4]\n",
    "\n",
    "################################################################################\n",
    "# TODO:                                                                        #\n",
    "# Use the validation set to set the learning rate and regularization strength. #\n",
    "# This should be identical to the validation that you did for the SVM; save    #\n",
    "# the best trained softmax classifer in best_softmax.                          #\n",
    "################################################################################\n",
    "#pass\n",
    "for li in learning_rates:\n",
    "    for rsi in regularization_strengths:\n",
    "        softmax = Softmax()\n",
    "        loss_hist = softmax.train(X_train, y_train, learning_rate=li, reg=rsi,\n",
    "                             num_iters=1500, verbose=True)\n",
    "        y_train_pred = softmax.predict(X_train)\n",
    "        y_train_acc = np.mean(y_train == y_train_pred)\n",
    "        y_val_pred = softmax.predict(X_val)\n",
    "        y_val_acc = np.mean(y_val == y_val_pred)\n",
    "        print(\"learning rate is %.10f and regularization strength is %.10f\" % (li, rsi))\n",
    "        print(\"validation accuracy: %f \\n\" % y_val_acc)\n",
    "        results[(li, rsi)] = (y_train_acc, y_val_acc)\n",
    "        if best_val < y_val_acc:\n",
    "            best_softmax = softmax\n",
    "            best_val = y_val_acc\n",
    "\n",
    "################################################################################\n",
    "#                              END OF YOUR CODE                                #\n",
    "################################################################################\n",
    "    \n",
    "# Print out results.\n",
    "for lr, reg in sorted(results):\n",
    "    train_accuracy, val_accuracy = results[(lr, reg)]\n",
    "    print('lr %e reg %e train accuracy: %f val accuracy: %f' % (\n",
    "                lr, reg, train_accuracy, val_accuracy))\n",
    "    \n",
    "print('best validation accuracy achieved during cross-validation: %f' % best_val)"
   ]
  },
  {
   "cell_type": "code",
   "execution_count": 12,
   "metadata": {},
   "outputs": [
    {
     "name": "stdout",
     "output_type": "stream",
     "text": [
      "softmax on raw pixels final test set accuracy: 0.357000\n"
     ]
    }
   ],
   "source": [
    "# evaluate on test set\n",
    "# Evaluate the best softmax on test set\n",
    "y_test_pred = best_softmax.predict(X_test)\n",
    "test_accuracy = np.mean(y_test == y_test_pred)\n",
    "print('softmax on raw pixels final test set accuracy: %f' % (test_accuracy, ))"
   ]
  },
  {
   "cell_type": "code",
   "execution_count": 13,
   "metadata": {},
   "outputs": [
    {
     "data": {
      "image/png": "[encoded data removed]",
      "text/plain": [
       "<matplotlib.figure.Figure at 0x9dccb70>"
      ]
     },
     "metadata": {},
     "output_type": "display_data"
    }
   ],
   "source": [
    "# Visualize the learned weights for each class\n",
    "w = best_softmax.W[:-1,:] # strip out the bias\n",
    "w = w.reshape(32, 32, 3, 10)\n",
    "\n",
    "w_min, w_max = np.min(w), np.max(w)\n",
    "\n",
    "classes = ['plane', 'car', 'bird', 'cat', 'deer', 'dog', 'frog', 'horse', 'ship', 'truck']\n",
    "for i in range(10):\n",
    "    plt.subplot(2, 5, i + 1)\n",
    "    \n",
    "    # Rescale the weights to be between 0 and 255\n",
    "    wimg = 255.0 * (w[:, :, :, i].squeeze() - w_min) / (w_max - w_min)\n",
    "    plt.imshow(wimg.astype('uint8'))\n",
    "    plt.axis('off')\n",
    "    plt.title(classes[i])"
   ]
  },
  {
   "cell_type": "code",
   "execution_count": null,
   "metadata": {
    "collapsed": true
   },
   "outputs": [],
   "source": []
  }
 ],
 "metadata": {
  "kernelspec": {
   "display_name": "Python 3",
   "language": "python",
   "name": "python3"
  },
  "language_info": {
   "codemirror_mode": {
    "name": "ipython",
    "version": 3
   },
   "file_extension": ".py",
   "mimetype": "text/x-python",
   "name": "python",
   "nbconvert_exporter": "python",
   "pygments_lexer": "ipython3",
   "version": "3.6.3"
  }
 },
 "nbformat": 4,
 "nbformat_minor": 1
}
